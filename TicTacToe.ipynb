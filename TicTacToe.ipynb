{
  "cells": [
    {
      "cell_type": "code",
      "execution_count": null,
      "metadata": {
        "colab": {
          "background_save": true,
          "base_uri": "https://localhost:8080/"
        },
        "id": "a0NJ2PaKyHIG",
        "outputId": "1b8ef5d7-9a05-44ca-e139-40d494df9bf3"
      },
      "outputs": [
        {
          "name": "stdout",
          "output_type": "stream",
          "text": [
            "*************************\n",
            "\tstart game\n",
            "*************************\n",
            "\t---------\n",
            "\t|0||1||2|\n",
            "\t---------\n",
            "\t|3||4||5|\n",
            "\t---------\n",
            "\t|6||7||8|\n",
            "\t---------\n",
            "player 1,please enter the position at which you want to check in\n",
            "wrong input,please enter again\n",
            "wrong input,please enter again\n"
          ]
        }
      ],
      "source": [
        "print(\"*************************\")\n",
        "print(\"\\tstart game\")\n",
        "print(\"*************************\")\n",
        "board=[[0,1,2],[3,4,5],[6,7,8]]\n",
        "printboard(board)\n",
        "p=0\n",
        "Endgame=False\n",
        "while Endgame==False:\n",
        "  Playerinput(board,p)\n",
        "  printboard(board)\n",
        "  Endgame=check(board,p)\n",
        "  p+=1\n",
        "\n"
      ]
    },
    {
      "cell_type": "code",
      "execution_count": null,
      "metadata": {
        "id": "mghP2si1_cE9"
      },
      "outputs": [],
      "source": [
        "def check(b,p):\n",
        "  #checking for symmetry in rows\n",
        "  for i in range (0,3,):\n",
        "    if b[i][0]==b[i][1] and b[i][1]==b[i][2]:\n",
        "      if p%2==0:\n",
        "        print(\"victory for player 1\")\n",
        "      else:\n",
        "        print(\"victory for player 2\")\n",
        "      return True\n",
        "  #row check over\n",
        "  #checking for symmetry in coloumns\n",
        "  for i in range (0,3,):\n",
        "    if b[0][i]==b[1][i] and b[1][i]==b[2][i]:\n",
        "      if p%2==0:\n",
        "        print(\"victory for player 1\")\n",
        "      else:\n",
        "        print(\"victory for player 2\")\n",
        "      return True\n",
        "  #coloumn check over\n",
        "  #checking for cross symmetry ,i.e,left or right symmetry\n",
        "  if b[0][0]==b[1][1] and b[1][1]==b[2][2]:\n",
        "      if p%2==0:\n",
        "        print(\"victory for player 1\")\n",
        "      else:\n",
        "        print(\"victory for player 2\")\n",
        "      return True\n",
        "      if b[0][2]==b[1][1] and b[1][1]==b[2][0]:\n",
        "        if p%2==0:\n",
        "          print(\"victory for player 1\")\n",
        "      else:\n",
        "        print(\"victory for player 2\")\n",
        "      return True\n",
        "  #condition for a draw\n",
        "  pos=0\n",
        "  for i in range(0,3,):\n",
        "    for j in range(0,3,):\n",
        "      if b[i][j]!=\"x\" and b[i][j]!=\"o\":\n",
        "        pos+=1\n",
        "  if pos==0:\n",
        "    print(\"MATCH DRAW\")\n",
        "    return True\n",
        "  return False\n",
        "\n",
        "\n"
      ]
    },
    {
      "cell_type": "code",
      "execution_count": null,
      "metadata": {
        "id": "OZf0oFRu8DZ7"
      },
      "outputs": [],
      "source": [
        "def Playerinput(b,p):\n",
        "  if p%2==0:\n",
        "    c=\"x\"\n",
        "    print(\"player 1,please enter the position at which you want to check in\")\n",
        "  else:\n",
        "    c=\"o\"\n",
        "    print(\"player 2,please enter the position at which you want to check in\")\n",
        "  pos=int(input())\n",
        "  while pos>8:\n",
        "    print(\"wrong input,please enter again\")\n",
        "    pos=int(input())\n",
        "  for i in range(0,3,):\n",
        "    for j in range(0,3,):\n",
        "      if pos==b[i][j]:\n",
        "        b[i][j]=c\n",
        "        break;\n",
        "\n",
        "\n",
        "\n",
        "\n",
        "\n"
      ]
    },
    {
      "cell_type": "code",
      "execution_count": null,
      "metadata": {
        "id": "xJOOFtKY3XEQ"
      },
      "outputs": [],
      "source": [
        "def printboard(b):\n",
        "  for i in range(0,3,):\n",
        "    print(\"\\t---------\")\n",
        "    print(\"\\t\",end=\"\")\n",
        "    for j in range(0,3,):\n",
        "      print(\"|\",end=\"\")\n",
        "      print(b[i][j],end=\"\")\n",
        "      print(\"|\",end=\"\")\n",
        "    print()\n",
        "  print(\"\\t---------\")"
      ]
    }
  ],
  "metadata": {
    "colab": {
      "provenance": []
    },
    "kernelspec": {
      "display_name": "Python 3",
      "name": "python3"
    },
    "language_info": {
      "name": "python"
    }
  },
  "nbformat": 4,
  "nbformat_minor": 0
}